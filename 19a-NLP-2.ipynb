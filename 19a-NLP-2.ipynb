{
 "cells": [
  {
   "cell_type": "markdown",
   "metadata": {},
   "source": [
    "# NLP & ML"
   ]
  },
  {
   "cell_type": "markdown",
   "metadata": {},
   "source": [
    "## KNN"
   ]
  },
  {
   "cell_type": "code",
   "execution_count": 1,
   "metadata": {},
   "outputs": [
    {
     "name": "stdout",
     "output_type": "stream",
     "text": [
      "******** setup **********\n",
      "******** prepare data **********\n",
      "******** setup vector model **********\n",
      "******** model and XV **********\n",
      "Fold Accuracies: [ 0.68224299  0.6635514   0.61682243  0.61320755  0.62264151  0.63809524\n",
      "  0.59047619  0.66666667  0.62857143  0.6       ]\n",
      "XV Accuracy:  63.22%\n"
     ]
    }
   ],
   "source": [
    "import pandas\n",
    "from sklearn.datasets import fetch_20newsgroups\n",
    "from sklearn.model_selection import cross_val_score\n",
    "from re import sub\n",
    "from nltk.stem import PorterStemmer\n",
    "\n",
    "\n",
    "print(\"******** setup **********\")\n",
    "stemmer = PorterStemmer()\n",
    "cats = ['talk.politics.misc', 'sci.space']\n",
    "newsgroups_train = fetch_20newsgroups(subset='train', \n",
    "                                      remove=('headers', 'footers', 'quotes'),\n",
    "                                      categories=cats)\n",
    "\n",
    "print(\"******** prepare data **********\")\n",
    "new_data = []\n",
    "for i in range(len(newsgroups_train.data)):\n",
    "    new_data.append(sub(\"[^a-zA-Z]\", \" \", newsgroups_train.data[i]))\n",
    "\n",
    "lowercase_data = []\n",
    "for i in range(len(new_data)):\n",
    "    lowercase_data.append(new_data[i].lower())\n",
    "\n",
    "stemmed_data = []\n",
    "for i in range(len(lowercase_data)):\n",
    "    words = lowercase_data[i].split()\n",
    "    stemmed_words = []\n",
    "    for w in words:\n",
    "        stemmed_words.append(stemmer.stem(w))\n",
    "    stemmed_data.append(\" \".join(stemmed_words))\n",
    "\n",
    "print(\"******** setup vector model **********\")\n",
    "from sklearn.feature_extraction.text import CountVectorizer\n",
    "vectorizer = CountVectorizer(analyzer = \"word\", binary = True, min_df=2, stop_words='english')\n",
    "docarray = vectorizer.fit_transform(stemmed_data).toarray()\n",
    "\n",
    "print(\"******** model and XV **********\")\n",
    "from sklearn.neighbors import KNeighborsClassifier\n",
    "model = KNeighborsClassifier(n_neighbors=4)\n",
    "\n",
    "# do the 10-fold cross validation\n",
    "scores = cross_val_score(model, docarray, newsgroups_train.target, cv=10)\n",
    "print(\"Fold Accuracies: {}\".format(scores))\n",
    "print(\"XV Accuracy: {: 6.2f}%\".format(scores.mean()*100))"
   ]
  },
  {
   "cell_type": "markdown",
   "metadata": {},
   "source": [
    "## Naive Bayes"
   ]
  },
  {
   "cell_type": "code",
   "execution_count": 2,
   "metadata": {},
   "outputs": [
    {
     "name": "stdout",
     "output_type": "stream",
     "text": [
      "******** setup **********\n",
      "******** prepare data **********\n",
      "******** setup vector model **********\n",
      "******** model and XV **********\n",
      "Fold Accuracies: [ 0.93457944  0.95327103  0.93457944  0.95283019  0.93396226  0.96190476\n",
      "  0.92380952  0.84761905  0.9047619   0.91428571]\n",
      "XV Accuracy:  92.62%\n"
     ]
    }
   ],
   "source": [
    "import pandas\n",
    "from sklearn.datasets import fetch_20newsgroups\n",
    "from sklearn.model_selection import cross_val_score\n",
    "from re import sub\n",
    "from nltk.stem import PorterStemmer\n",
    "\n",
    "\n",
    "print(\"******** setup **********\")\n",
    "stemmer = PorterStemmer()\n",
    "cats = ['talk.politics.misc', 'sci.space']\n",
    "newsgroups_train = fetch_20newsgroups(subset='train', \n",
    "                                      remove=('headers', 'footers', 'quotes'),\n",
    "                                      categories=cats)\n",
    "\n",
    "print(\"******** prepare data **********\")\n",
    "new_data = []\n",
    "for i in range(len(newsgroups_train.data)):\n",
    "    new_data.append(sub(\"[^a-zA-Z]\", \" \", newsgroups_train.data[i]))\n",
    "\n",
    "lowercase_data = []\n",
    "for i in range(len(new_data)):\n",
    "    lowercase_data.append(new_data[i].lower())\n",
    "\n",
    "stemmed_data = []\n",
    "for i in range(len(lowercase_data)):\n",
    "    words = lowercase_data[i].split()\n",
    "    stemmed_words = []\n",
    "    for w in words:\n",
    "        stemmed_words.append(stemmer.stem(w))\n",
    "    stemmed_data.append(\" \".join(stemmed_words))\n",
    "\n",
    "print(\"******** setup vector model **********\")\n",
    "from sklearn.feature_extraction.text import CountVectorizer\n",
    "vectorizer = CountVectorizer(analyzer = \"word\", binary = True, min_df=2, stop_words='english')\n",
    "docarray = vectorizer.fit_transform(stemmed_data).toarray()\n",
    "coords = vectorizer.get_feature_names()\n",
    "docterm = pandas.DataFrame(data=docarray,columns=coords)\n",
    "\n",
    "print(\"******** model and XV **********\")\n",
    "from sklearn.naive_bayes import MultinomialNB\n",
    "model = MultinomialNB()\n",
    "\n",
    "\n",
    "# do the 10-fold cross validation\n",
    "scores = cross_val_score(model, docarray, newsgroups_train.target, cv=10)\n",
    "print(\"Fold Accuracies: {}\".format(scores))\n",
    "print(\"XV Accuracy: {: 6.2f}%\".format(scores.mean()*100))"
   ]
  },
  {
   "cell_type": "code",
   "execution_count": null,
   "metadata": {
    "collapsed": true
   },
   "outputs": [],
   "source": []
  }
 ],
 "metadata": {
  "kernelspec": {
   "display_name": "Python 3",
   "language": "python",
   "name": "python3"
  },
  "language_info": {
   "codemirror_mode": {
    "name": "ipython",
    "version": 3
   },
   "file_extension": ".py",
   "mimetype": "text/x-python",
   "name": "python",
   "nbconvert_exporter": "python",
   "pygments_lexer": "ipython3",
   "version": "3.6.1"
  }
 },
 "nbformat": 4,
 "nbformat_minor": 2
}
