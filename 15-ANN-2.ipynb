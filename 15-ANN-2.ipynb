{
 "cells": [
  {
   "cell_type": "markdown",
   "metadata": {},
   "source": [
    "# ANN (MLP) Code Examples"
   ]
  },
  {
   "cell_type": "code",
   "execution_count": 1,
   "metadata": {},
   "outputs": [
    {
     "name": "stdout",
     "output_type": "stream",
     "text": [
      "Fold Accuracies: [ 0.94782609  0.37391304  0.90265487  0.92920354  0.88495575]\n",
      "Accuracy: 0.8077106579453636\n"
     ]
    }
   ],
   "source": [
    "# set up\n",
    "import pandas as pd\n",
    "from sklearn.neural_network import MLPClassifier\n",
    "from sklearn.model_selection import cross_val_score\n",
    "from sklearn.metrics import accuracy_score\n",
    "from sklearn.metrics import confusion_matrix\n",
    "\n",
    "# get data\n",
    "df = pd.read_csv(\"assets/wdbc.csv\")\n",
    "df = df.drop(['ID'],axis=1)\n",
    "X  = df.drop(['Diagnosis'],axis=1)\n",
    "y = df['Diagnosis']\n",
    "\n",
    "\n",
    "# neural network\n",
    "model = MLPClassifier(hidden_layer_sizes=(60,30), max_iter=10000)\n",
    "\n",
    "# do the 5-fold cross validation\n",
    "scores = cross_val_score(model, X, y, cv=5)\n",
    "print(\"Fold Accuracies: {}\".format(scores))\n",
    "print(\"Accuracy: {}\".format(scores.mean()))\n"
   ]
  },
  {
   "attachments": {},
   "cell_type": "markdown",
   "metadata": {},
   "source": [
    "## MLP Grid Search\n",
    "\n",
    "We can also perform a grid search to find the optimal network.\n",
    "\n",
    "BEWARE: a grid search over all possible parameters of an MLP is almost impossible - combinatoric explosion, too many different combinations possible.\n",
    "\n",
    "Here we only perform a grid over the number of nodes in a single hidden layer.\n",
    "\n"
   ]
  },
  {
   "cell_type": "code",
   "execution_count": 2,
   "metadata": {},
   "outputs": [
    {
     "name": "stdout",
     "output_type": "stream",
     "text": [
      "Grid Search: best parameters: {'hidden_layer_sizes': (50, 30)}\n",
      "Accuracy: 0.9033391915641477\n",
      "Confusion Matrix:\n",
      "     B    M\n",
      "B  350    7\n",
      "M   48  164\n",
      "Confidence interval best MLP: (0.30701754385964913, 0.95614035087719296)\n"
     ]
    }
   ],
   "source": [
    "# set up\n",
    "import pandas as pd\n",
    "from sklearn.neural_network import MLPClassifier\n",
    "from sklearn.model_selection import cross_val_score\n",
    "from sklearn.metrics import accuracy_score\n",
    "from sklearn.metrics import confusion_matrix\n",
    "from sklearn.model_selection import GridSearchCV\n",
    "from bootstrap import bootstrap\n",
    "\n",
    "# get data\n",
    "df = pd.read_csv(\"assets/wdbc.csv\")\n",
    "df = df.drop(['ID'],axis=1)\n",
    "X  = df.drop(['Diagnosis'],axis=1)\n",
    "actual_y = df['Diagnosis']\n",
    "\n",
    "# neural network\n",
    "model = MLPClassifier(max_iter=10000)\n",
    "\n",
    "# grid search\n",
    "param_grid = {'hidden_layer_sizes': [ (5,30), (10,30), (20,30), (30,30), \n",
    "                                     (40,30), (50,30), (60,30), (70,30), \n",
    "                                     (80,30), (90,30), (100,30)]}\n",
    "grid = GridSearchCV(model, param_grid, cv=5)\n",
    "grid.fit(X, actual_y)\n",
    "print(\"Grid Search: best parameters: {}\".format(grid.best_params_))\n",
    "\n",
    "# evaluate the best model\n",
    "best_model = grid.best_estimator_\n",
    "predict_y = best_model.predict(X)\n",
    "print(\"Accuracy: {}\".format(accuracy_score(actual_y, predict_y)))\n",
    "\n",
    "# build the confusion matrix\n",
    "labels = ['B', 'M']\n",
    "cm = confusion_matrix(actual_y, predict_y, labels=labels)\n",
    "cm_df = pd.DataFrame(cm, index=labels, columns=labels)\n",
    "print(\"Confusion Matrix:\\n{}\".format(cm_df))\n",
    "\n",
    "# boostrapped confidence interval\n",
    "print(\"Confidence interval best MLP: {}\".format(bootstrap(best_model,df,'Diagnosis')))"
   ]
  },
  {
   "cell_type": "markdown",
   "metadata": {},
   "source": [
    "# Team Exercise\n",
    "\n",
    "Use the Crohn’s Disease dataset: [CrohnD](https://vincentarelbundock.github.io/Rdatasets/datasets.html)\n",
    "\n",
    "You will need to preprocess this before you can use it: \n",
    "\n",
    "c1 -> 0, c2 -> 1, F -> 0, M -> 1\n",
    "\n",
    "Build a ANN/MLP with the best cross-validated performance you can find.\n",
    "\n",
    "Compare it to either a tree or a KNN (or both).\n",
    "\n",
    "Report if the difference between the models is statistically significant.\n"
   ]
  },
  {
   "cell_type": "markdown",
   "metadata": {},
   "source": [
    "# Teams\n",
    "\n"
   ]
  },
  {
   "cell_type": "code",
   "execution_count": null,
   "metadata": {
    "collapsed": true
   },
   "outputs": [],
   "source": []
  }
 ],
 "metadata": {
  "kernelspec": {
   "display_name": "Python 3",
   "language": "python",
   "name": "python3"
  },
  "language_info": {
   "codemirror_mode": {
    "name": "ipython",
    "version": 3
   },
   "file_extension": ".py",
   "mimetype": "text/x-python",
   "name": "python",
   "nbconvert_exporter": "python",
   "pygments_lexer": "ipython3",
   "version": "3.6.1"
  }
 },
 "nbformat": 4,
 "nbformat_minor": 2
}
