{
 "cells": [
  {
   "cell_type": "markdown",
   "metadata": {
    "slideshow": {
     "slide_type": "slide"
    }
   },
   "source": [
    "# Models of Data\n",
    "\n",
    "We saw one model of data already -- the *Decision Tree* \n",
    "\n",
    "There are many more.  Here are a few more that are supported by scikit-learn:\n",
    "\n",
    ">Support Vector Machines, kNN, Random Forests, Linear Regression\n"
   ]
  },
  {
   "cell_type": "markdown",
   "metadata": {
    "slideshow": {
     "slide_type": "subslide"
    }
   },
   "source": [
    "## Statistical Models vs Machine Learning\n",
    "\n",
    "* Virtually no difference - more of a historical nomenclature given where the model came from (Statistics vs CS) than anything else\n",
    "\n",
    "* Some of the older stats models make assumptions on the shape (distribution) of the data they work on\n",
    "\n",
    "* To acknowledge that there is a confluence of Stats and Machine Learning we often talk about *Statistical Learning*\n",
    "\n",
    "* Here we talk about machine learning implying both statistical and computational approaches\n"
   ]
  },
  {
   "cell_type": "markdown",
   "metadata": {
    "slideshow": {
     "slide_type": "subslide"
    }
   },
   "source": [
    "## Machine Learning\n",
    "\n",
    "* Machine learning involves building mathematical models to help understand data. \n",
    "\n",
    "* Once these models have been fit to previously seen data, they can be used to predict and understand aspects of newly observed data.\n",
    "\n",
    "* These models exhibit features of learning because they let us draw  inferences from specific instances (data) to the general (prediction of unseen instances)\n"
   ]
  },
  {
   "cell_type": "markdown",
   "metadata": {
    "slideshow": {
     "slide_type": "subslide"
    }
   },
   "source": [
    "![swan](assets/swans.jpg)"
   ]
  },
  {
   "cell_type": "markdown",
   "metadata": {},
   "source": [
    "The [Black Swan Problem](https://en.wikipedia.org/wiki/Falsifiability) is a classic example posed by the philosopher [Karl Popper](https://en.wikipedia.org/wiki/Karl_Popper) in the early twentieth century.  It roughly states that learning/induction is always a probabilistic argument since we can only learn from a limited number of observations (D) and make generalization from those on the universe at large (X).  On a more technical level it argues this point based on *falsifiability of an hypothesis*."
   ]
  },
  {
   "cell_type": "markdown",
   "metadata": {
    "slideshow": {
     "slide_type": "subslide"
    }
   },
   "source": [
    "## Categories of Machine Learning: Supervised Learning\n",
    "\n",
    "*Supervised learning* involves modeling the relationship between measured features of data and some label associated with the data,  e.g. play tennis\n",
    "\n",
    "Once a model in this category is determined, it can be used to apply labels to new, unknown data. \n",
    "\n",
    "This is further subdivided into *classification* tasks and *regression* tasks: \n",
    "\n",
    "* classification, the labels are discrete categories, \n",
    "* regression, the labels are continuous quantities. \n"
   ]
  },
  {
   "cell_type": "markdown",
   "metadata": {
    "slideshow": {
     "slide_type": "subslide"
    }
   },
   "source": [
    "## Categories of Machine Learning: Unsupervised Learning\n",
    "\n",
    "\n",
    "*Unsupervised learning* involves modeling the features of a dataset without reference to any label, and is often described as “letting the dataset speak for itself.” \n",
    "\n",
    "These models include tasks such as *clustering* and *dimensionality reduction*: \n",
    "\n",
    "* clustering algorithms identify distinct groups of data, \n",
    "* dimensionality reduction algorithms search for more succinct representations of the data. \n"
   ]
  },
  {
   "cell_type": "markdown",
   "metadata": {
    "slideshow": {
     "slide_type": "subslide"
    }
   },
   "source": [
    "![class](assets/classification1.jpg)"
   ]
  },
  {
   "cell_type": "markdown",
   "metadata": {
    "slideshow": {
     "slide_type": "subslide"
    }
   },
   "source": [
    "![class](assets/classification2.jpg)"
   ]
  },
  {
   "cell_type": "markdown",
   "metadata": {
    "slideshow": {
     "slide_type": "subslide"
    }
   },
   "source": [
    "![image](assets/classification3.jpg)"
   ]
  },
  {
   "cell_type": "markdown",
   "metadata": {
    "slideshow": {
     "slide_type": "slide"
    }
   },
   "source": [
    "# Demo - The Perceptron\n",
    "\n",
    "Perceptron (one layer Neural Network) learning a decision surface.\n",
    "\n",
    "![perceptron](assets/perceptron.jpg)"
   ]
  },
  {
   "cell_type": "markdown",
   "metadata": {
    "slideshow": {
     "slide_type": "subslide"
    }
   },
   "source": [
    "The perceptron implements the following equation:\n",
    "\n",
    "![perceptron](assets/perceptron-eq.jpg)\n",
    "\n",
    "If you have taken linear algebra you will recognize the line/plane representation as a dot product."
   ]
  },
  {
   "cell_type": "markdown",
   "metadata": {
    "slideshow": {
     "slide_type": "subslide"
    }
   },
   "source": [
    "Training a perceptron is a simple stochastic search:\n",
    "\n",
    "![perceptron](assets/perceptron-train.jpg)\n",
    "\n"
   ]
  },
  {
   "cell_type": "markdown",
   "metadata": {
    "slideshow": {
     "slide_type": "subslide"
    }
   },
   "source": [
    "## Demo..."
   ]
  },
  {
   "cell_type": "markdown",
   "metadata": {
    "slideshow": {
     "slide_type": "slide"
    }
   },
   "source": [
    "# Let's take a look at Regression..."
   ]
  },
  {
   "cell_type": "markdown",
   "metadata": {
    "slideshow": {
     "slide_type": "subslide"
    }
   },
   "source": [
    "![regression](assets/regression1.jpg)"
   ]
  },
  {
   "cell_type": "markdown",
   "metadata": {
    "collapsed": true,
    "slideshow": {
     "slide_type": "slide"
    }
   },
   "source": [
    "# A Very Simple Model: Linear Regression\n"
   ]
  },
  {
   "cell_type": "code",
   "execution_count": 48,
   "metadata": {
    "collapsed": true,
    "slideshow": {
     "slide_type": "fragment"
    }
   },
   "outputs": [],
   "source": [
    "%matplotlib inline\n",
    "import numpy as np\n",
    "import random\n",
    "import pandas"
   ]
  },
  {
   "cell_type": "code",
   "execution_count": 76,
   "metadata": {
    "slideshow": {
     "slide_type": "fragment"
    }
   },
   "outputs": [
    {
     "data": {
      "text/plain": [
       "<matplotlib.collections.PathCollection at 0x115b0a780>"
      ]
     },
     "execution_count": 76,
     "metadata": {},
     "output_type": "execute_result"
    },
    {
     "data": {
      "image/png": "[encoded data removed]",
      "text/plain": [
       "<matplotlib.figure.Figure at 0x115a03748>"
      ]
     },
     "metadata": {},
     "output_type": "display_data"
    }
   ],
   "source": [
    "# generate some data\n",
    "x = pandas.DataFrame([10 * random.random() for __ in range(50)])\n",
    "y = 2 * x - 1 + pandas.DataFrame([5*random.random() for __ in range(50)])\n",
    "plt.scatter(x,y)"
   ]
  },
  {
   "cell_type": "code",
   "execution_count": 77,
   "metadata": {
    "slideshow": {
     "slide_type": "subslide"
    }
   },
   "outputs": [
    {
     "data": {
      "text/plain": [
       "LinearRegression(copy_X=True, fit_intercept=True, n_jobs=1, normalize=False)"
      ]
     },
     "execution_count": 77,
     "metadata": {},
     "output_type": "execute_result"
    }
   ],
   "source": [
    "# pick model\n",
    "from sklearn.linear_model import LinearRegression\n",
    "model = LinearRegression(fit_intercept=True)\n",
    "model.fit(x, y)\n"
   ]
  },
  {
   "cell_type": "code",
   "execution_count": 78,
   "metadata": {
    "slideshow": {
     "slide_type": "fragment"
    }
   },
   "outputs": [
    {
     "name": "stdout",
     "output_type": "stream",
     "text": [
      "slope: 1.8778514099279326\n",
      "intercept: 1.6434218890441699\n"
     ]
    }
   ],
   "source": [
    "# look at the model parameters\n",
    "print(\"slope: {}\".format(model.coef_[0][0]))\n",
    "print(\"intercept: {}\".format(model.intercept_[0]))"
   ]
  },
  {
   "cell_type": "code",
   "execution_count": 79,
   "metadata": {
    "slideshow": {
     "slide_type": "subslide"
    }
   },
   "outputs": [
    {
     "data": {
      "text/plain": [
       "<matplotlib.collections.PathCollection at 0x115d16c88>"
      ]
     },
     "execution_count": 79,
     "metadata": {},
     "output_type": "execute_result"
    },
    {
     "data": {
      "image/png": "[encoded data removed]",
      "text/plain": [
       "<matplotlib.figure.Figure at 0x114e04908>"
      ]
     },
     "metadata": {},
     "output_type": "display_data"
    }
   ],
   "source": [
    "# plot the model\n",
    "fig, ax = plt.subplots()\n",
    "x_ticks = pandas.DataFrame([i for i in range(-1, 12)]) # generate the x-ticks\n",
    "ax.plot(x_ticks, model.coef_[0][0] * x_ticks + model.intercept_[0], color='red')\n",
    "ax.scatter(x, y)\n"
   ]
  },
  {
   "cell_type": "markdown",
   "metadata": {
    "slideshow": {
     "slide_type": "subslide"
    }
   },
   "source": [
    "# Regression Model Evaluation\n",
    "\n",
    "Regression models do not have a notion of **classification accuracy** as we saw with trees but they have an [$R^2$ score](https://en.wikipedia.org/wiki/Coefficient_of_determination) - the closer to 1.0 the score the better the model. \n"
   ]
  },
  {
   "cell_type": "code",
   "execution_count": 80,
   "metadata": {
    "slideshow": {
     "slide_type": "fragment"
    }
   },
   "outputs": [
    {
     "name": "stdout",
     "output_type": "stream",
     "text": [
      "R^2 score: 0.937991679133941\n"
     ]
    }
   ],
   "source": [
    "# compute the R^2 score \n",
    "print(\"R^2 score: {}\".format(model.score(x,y)))\n"
   ]
  },
  {
   "cell_type": "markdown",
   "metadata": {
    "slideshow": {
     "slide_type": "subslide"
    }
   },
   "source": [
    "Let's try this with some other data..."
   ]
  },
  {
   "cell_type": "code",
   "execution_count": 83,
   "metadata": {
    "slideshow": {
     "slide_type": "subslide"
    }
   },
   "outputs": [
    {
     "data": {
      "text/plain": [
       "<matplotlib.collections.PathCollection at 0x115fb4358>"
      ]
     },
     "execution_count": 83,
     "metadata": {},
     "output_type": "execute_result"
    },
    {
     "data": {
      "image/png": "[encoded data removed]",
      "text/plain": [
       "<matplotlib.figure.Figure at 0x115d78cc0>"
      ]
     },
     "metadata": {},
     "output_type": "display_data"
    }
   ],
   "source": [
    "# generate some data\n",
    "x = pandas.DataFrame([10 * random.random() for __ in range(50)])\n",
    "y = x*x*x + pandas.DataFrame([1000*random.random() for __ in range(50)])\n",
    "plt.scatter(x,y)"
   ]
  },
  {
   "cell_type": "code",
   "execution_count": 84,
   "metadata": {
    "slideshow": {
     "slide_type": "subslide"
    }
   },
   "outputs": [
    {
     "data": {
      "text/plain": [
       "LinearRegression(copy_X=True, fit_intercept=True, n_jobs=1, normalize=False)"
      ]
     },
     "execution_count": 84,
     "metadata": {},
     "output_type": "execute_result"
    }
   ],
   "source": [
    "# pick model\n",
    "from sklearn.linear_model import LinearRegression\n",
    "square_model = LinearRegression(fit_intercept=True)\n",
    "square_model.fit(x, y)\n",
    "\n"
   ]
  },
  {
   "cell_type": "code",
   "execution_count": 85,
   "metadata": {
    "slideshow": {
     "slide_type": "fragment"
    }
   },
   "outputs": [
    {
     "name": "stdout",
     "output_type": "stream",
     "text": [
      "slope: 75.32909549542559\n",
      "intercept: 349.7277399265034\n"
     ]
    }
   ],
   "source": [
    "# look at the model parameters\n",
    "print(\"slope: {}\".format(square_model.coef_[0][0]))\n",
    "print(\"intercept: {}\".format(square_model.intercept_[0]))"
   ]
  },
  {
   "cell_type": "code",
   "execution_count": 86,
   "metadata": {
    "slideshow": {
     "slide_type": "subslide"
    }
   },
   "outputs": [
    {
     "data": {
      "text/plain": [
       "<matplotlib.collections.PathCollection at 0x116105e10>"
      ]
     },
     "execution_count": 86,
     "metadata": {},
     "output_type": "execute_result"
    },
    {
     "data": {
      "image/png": "[encoded data removed]",
      "text/plain": [
       "<matplotlib.figure.Figure at 0x1160bc0b8>"
      ]
     },
     "metadata": {},
     "output_type": "display_data"
    }
   ],
   "source": [
    "# plot the model\n",
    "fig, ax = plt.subplots()\n",
    "x_ticks = pandas.DataFrame([i for i in range(-1, 12)]) # generate the x-ticks\n",
    "ax.plot(x_ticks, square_model.coef_[0][0] * x_ticks + square_model.intercept_[0], color='red')\n",
    "ax.scatter(x, y)\n",
    "\n"
   ]
  },
  {
   "cell_type": "code",
   "execution_count": 87,
   "metadata": {
    "slideshow": {
     "slide_type": "fragment"
    }
   },
   "outputs": [
    {
     "name": "stdout",
     "output_type": "stream",
     "text": [
      "R^2 score: 0.30641477322610056\n"
     ]
    }
   ],
   "source": [
    "# compute the R^2 score \n",
    "print(\"R^2 score: {}\".format(square_model.score(x,y)))\n"
   ]
  },
  {
   "cell_type": "markdown",
   "metadata": {
    "slideshow": {
     "slide_type": "subslide"
    }
   },
   "source": [
    "# Scikit-Learn Models\n",
    "\n",
    "Scikit-Learn has a \"standardized\" view of how to build models and evaluate them:\n",
    "\n",
    "1. Prepare your data (using Pandas)\n",
    "  * `pd.read_csv`\n",
    "  * `df.drop`\n",
    "  * `df.head`\n",
    "1. Pick your model and instantiate the model object:\n",
    "  * decision trees: `tree.DecisionTreeClassifier(criterion='entropy')`\n",
    "  * linear models: `LinearRegression(fit_intercept=True)`\n",
    "1. Fit your model: the `fit` function.\n",
    "1. Evaluate your model:\n",
    "  * decision trees: `accuracy_score`\n",
    "  * linear models ($R^2$-score): `score`"
   ]
  },
  {
   "cell_type": "markdown",
   "metadata": {
    "slideshow": {
     "slide_type": "slide"
    }
   },
   "source": [
    "# Models\n",
    "\n",
    "In machine learning we focus on *model performance* rather than looking at the internal model parameters.\n",
    "\n",
    "For example, from a machine learning perspective in linear models the most important part is the $R^2$ score, the internal model coefficients are really coincidental and are only used to visualize the model.\n",
    "\n",
    "We see this approach throughout all of the models we will be looking at.  Furthermore, some machine learning models simply do not have useful model parameters to look at, *e.g.*, neural networks."
   ]
  },
  {
   "cell_type": "markdown",
   "metadata": {
    "slideshow": {
     "slide_type": "slide"
    }
   },
   "source": [
    "# Midterm Project\n",
    "\n",
    "* Team Project: APP - max team size 3\n",
    "* Individual Project: APP\n",
    "* Individual Project: Data Analysis and Modeling\n",
    "\n",
    "Can pick your team.  Proposals due towards the end of the week."
   ]
  },
  {
   "cell_type": "code",
   "execution_count": null,
   "metadata": {
    "collapsed": true
   },
   "outputs": [],
   "source": []
  }
 ],
 "metadata": {
  "kernelspec": {
   "display_name": "Python 3",
   "language": "python",
   "name": "python3"
  },
  "language_info": {
   "codemirror_mode": {
    "name": "ipython",
    "version": 3
   },
   "file_extension": ".py",
   "mimetype": "text/x-python",
   "name": "python",
   "nbconvert_exporter": "python",
   "pygments_lexer": "ipython3",
   "version": "3.6.1"
  }
 },
 "nbformat": 4,
 "nbformat_minor": 2
}
